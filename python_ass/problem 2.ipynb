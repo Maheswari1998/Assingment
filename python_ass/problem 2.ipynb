{
 "cells": [
  {
   "cell_type": "code",
   "execution_count": 11,
   "metadata": {},
   "outputs": [],
   "source": [
    "from math import log10"
   ]
  },
  {
   "cell_type": "code",
   "execution_count": 23,
   "metadata": {},
   "outputs": [
    {
     "name": "stdout",
     "output_type": "stream",
     "text": [
      "enter the size for triangle\n",
      "11\n",
      "1\n",
      "1 2 1\n",
      "1 2 3 2 1\n",
      "1 2 3 4 3 2 1\n",
      "1 2 3 4 5 4 3 2 1\n",
      "1 2 3 4 5 6 5 4 3 2 1\n",
      "1 2 3 4 5 6 7 6 5 4 3 2 1\n",
      "1 2 3 4 5 6 7 8 7 6 5 4 3 2 1\n",
      "1 2 3 4 5 6 7 8 9 8 7 6 5 4 3 2 1\n",
      "1 2 3 4 5 6 7 8 9 10 9 8 7 6 5 4 3 2 1\n",
      "1 2 3 4 5 6 7 8 9 10 11 10 9 8 7 6 5 4 3 2 1\n"
     ]
    }
   ],
   "source": [
    "n=int(input('enter the size for triangle\\n'))#here we are using lists\n",
    "for i in range(1, n + 1):\n",
    "    print(*list(range(1, i + 1)) + list(range(i - 1, 0, -1)),sep=None)#'*' is used to convert list elemenets to normal elements"
   ]
  },
  {
   "cell_type": "code",
   "execution_count": 22,
   "metadata": {},
   "outputs": [
    {
     "name": "stdout",
     "output_type": "stream",
     "text": [
      "enter the size of triangle9\n",
      "1\n",
      "121\n",
      "12321\n",
      "1234321\n",
      "123454321\n",
      "12345654321\n",
      "1234567654321\n",
      "123456787654321\n",
      "12345678987654321\n"
     ]
    }
   ],
   "source": [
    "s=int(input('enter the size of triangle'))#in a different way we are using log() function in this\n",
    "j = 1\n",
    "while (s > log10(j)):#but this method has limitation up to 9 after so  \n",
    "    print(j**2)\n",
    "    j = j * 10 + 1"
   ]
  },
  {
   "cell_type": "code",
   "execution_count": null,
   "metadata": {},
   "outputs": [],
   "source": []
  },
  {
   "cell_type": "code",
   "execution_count": null,
   "metadata": {},
   "outputs": [],
   "source": []
  }
 ],
 "metadata": {
  "kernelspec": {
   "display_name": "Python 3",
   "language": "python",
   "name": "python3"
  },
  "language_info": {
   "codemirror_mode": {
    "name": "ipython",
    "version": 3
   },
   "file_extension": ".py",
   "mimetype": "text/x-python",
   "name": "python",
   "nbconvert_exporter": "python",
   "pygments_lexer": "ipython3",
   "version": "3.7.3"
  }
 },
 "nbformat": 4,
 "nbformat_minor": 2
}
