{
 "cells": [
  {
   "cell_type": "code",
   "execution_count": 1,
   "metadata": {},
   "outputs": [],
   "source": [
    "import re # importing regular expression "
   ]
  },
  {
   "cell_type": "code",
   "execution_count": 41,
   "metadata": {},
   "outputs": [],
   "source": [
    "reg='^\\w+([\\.-]?\\w+)*@\\w+([\\.-]?\\w+)+(\\.\\w{2,3})+$' #regular expression for valid email"
   ]
  },
  {
   "cell_type": "code",
   "execution_count": 26,
   "metadata": {},
   "outputs": [
    {
     "name": "stdout",
     "output_type": "stream",
     "text": [
      "enter number of emails \n",
      "3\n",
      "hello@example\n",
      "username@domain.com\n",
      "her323@#89asdf.fds\n"
     ]
    }
   ],
   "source": [
    "i=int(input('enter number of emails \\n'))\n",
    "l=[]\n",
    "for j in range(0,i):\n",
    "    l.insert(j,str(input()))\n",
    "    l[j].lower()  # we are considering all emails must be in lower case if not we are converting here"
   ]
  },
  {
   "cell_type": "code",
   "execution_count": 42,
   "metadata": {},
   "outputs": [],
   "source": [
    "def valid(email):\n",
    "    if(re.search(reg,email)):  \n",
    "        return 1   \n",
    "    else:  \n",
    "        return 0"
   ]
  },
  {
   "cell_type": "code",
   "execution_count": 43,
   "metadata": {},
   "outputs": [
    {
     "name": "stdout",
     "output_type": "stream",
     "text": [
      "username@domain.com\n"
     ]
    }
   ],
   "source": [
    "for s in range(0,i):\n",
    "    t=valid(l[s])\n",
    "    if t==1:\n",
    "        print(l[s])"
   ]
  },
  {
   "cell_type": "code",
   "execution_count": null,
   "metadata": {},
   "outputs": [],
   "source": []
  }
 ],
 "metadata": {
  "kernelspec": {
   "display_name": "Python 3",
   "language": "python",
   "name": "python3"
  },
  "language_info": {
   "codemirror_mode": {
    "name": "ipython",
    "version": 3
   },
   "file_extension": ".py",
   "mimetype": "text/x-python",
   "name": "python",
   "nbconvert_exporter": "python",
   "pygments_lexer": "ipython3",
   "version": "3.7.3"
  }
 },
 "nbformat": 4,
 "nbformat_minor": 2
}
